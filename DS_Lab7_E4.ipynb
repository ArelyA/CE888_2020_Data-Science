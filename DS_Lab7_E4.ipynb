{
  "nbformat": 4,
  "nbformat_minor": 0,
  "metadata": {
    "colab": {
      "name": "DS_Lab7_E4.ipynb",
      "provenance": [],
      "authorship_tag": "ABX9TyN179zIer6HKXx8pYYe7Ot5",
      "include_colab_link": true
    },
    "kernelspec": {
      "name": "python3",
      "display_name": "Python 3"
    }
  },
  "cells": [
    {
      "cell_type": "markdown",
      "metadata": {
        "id": "view-in-github",
        "colab_type": "text"
      },
      "source": [
        "<a href=\"https://colab.research.google.com/github/ArelyA/CE888_2020_Data-Science/blob/master/DS_Lab7_E4.ipynb\" target=\"_parent\"><img src=\"https://colab.research.google.com/assets/colab-badge.svg\" alt=\"Open In Colab\"/></a>"
      ]
    },
    {
      "cell_type": "markdown",
      "metadata": {
        "id": "6_UMf48PluB0",
        "colab_type": "text"
      },
      "source": [
        "# **Brain MRI Images for Brain Tumor Detection**"
      ]
    },
    {
      "cell_type": "markdown",
      "metadata": {
        "id": "LPjygb2sl4tA",
        "colab_type": "text"
      },
      "source": [
        "### **Get Data**\n",
        "The dataset consists of 2 folders containing MRI brain images\n",
        "* yes - contains images of brains with tumors\n",
        "* no - contains images of brains without tumors"
      ]
    },
    {
      "cell_type": "code",
      "metadata": {
        "id": "w7ULAqPPiNd4",
        "colab_type": "code",
        "outputId": "56e88ca0-4fcb-4e07-fbb9-cde411d2ea15",
        "colab": {
          "base_uri": "https://localhost:8080/",
          "height": 70
        }
      },
      "source": [
        "import os\n",
        "os.environ['KAGGLE_USERNAME'] = \"arelya\" # username from the json file\n",
        "os.environ['KAGGLE_KEY'] = \"e276ea403eb01cd7fef5f90fdbcf34db\" # key from the json file\n",
        "!kaggle datasets download -d navoneel/brain-mri-images-for-brain-tumor-detection # api copied from kaggle"
      ],
      "execution_count": 1,
      "outputs": [
        {
          "output_type": "stream",
          "text": [
            "Downloading brain-mri-images-for-brain-tumor-detection.zip to /content\n",
            " 33% 5.00M/15.1M [00:00<00:00, 30.8MB/s]\n",
            "100% 15.1M/15.1M [00:00<00:00, 60.0MB/s]\n"
          ],
          "name": "stdout"
        }
      ]
    },
    {
      "cell_type": "code",
      "metadata": {
        "id": "q4hQv7iqm0QM",
        "colab_type": "code",
        "outputId": "fef4fe88-7ad6-4f50-80ca-dfbda42b5644",
        "colab": {
          "base_uri": "https://localhost:8080/",
          "height": 34
        }
      },
      "source": [
        "from zipfile import ZipFile\n",
        "file_name = \"/content/brain-mri-images-for-brain-tumor-detection.zip\"\n",
        "\n",
        "with ZipFile(file_name, 'r') as zip:\n",
        "  zip.extractall()\n",
        "  print('done')"
      ],
      "execution_count": 2,
      "outputs": [
        {
          "output_type": "stream",
          "text": [
            "done\n"
          ],
          "name": "stdout"
        }
      ]
    },
    {
      "cell_type": "code",
      "metadata": {
        "id": "wybfee_JqKX8",
        "colab_type": "code",
        "outputId": "38fe15fd-b624-4589-b170-9ef34500bb73",
        "colab": {
          "base_uri": "https://localhost:8080/",
          "height": 72
        }
      },
      "source": [
        "data_dir_list = os.listdir('/content')\n",
        "print(data_dir_list)\n",
        "print(os.listdir('/content/no'))"
      ],
      "execution_count": 3,
      "outputs": [
        {
          "output_type": "stream",
          "text": [
            "['.config', 'brain-mri-images-for-brain-tumor-detection.zip', 'yes', 'no', 'brain_tumor_dataset', 'sample_data']\n",
            "['15 no.jpg', 'no 923.jpg', 'N2.JPG', '38 no.jpg', 'no 99.jpg', 'No19.jpg', 'N5.jpg', 'no 100.jpg', '4 no.jpg', 'N22.JPG', 'No21.jpg', '18 no.jpg', 'No13.jpg', '3 no.jpg', '14 no.jpg', 'no 9.png', 'no 4.jpg', '30 no.jpg', 'no 97.jpg', '12 no.jpg', '40 no.jpg', '9 no.jpg', '45 no.jpg', '47 no.jpg', '49 no.jpg', '11 no.jpg', 'No20.jpg', 'No12.jpg', 'no 90.jpg', '43 no.jpg', '35 no.jpg', '21 no.jpg', '20 no.jpg', '27 no.jpg', 'no 98.jpg', '41 no.jpg', 'N26.JPG', '32 no.jpg', '39 no.jpg', '46 no.jpg', 'no 10.jpg', 'No11.jpg', '36 no.jpg', '8 no.jpg', 'no 8.jpg', 'no 89.jpg', 'N3.jpg', 'no.jpg', 'N15.jpg', '24 no.jpg', 'no 7.jpeg', 'no 96.jpg', '37 no.jpg', '1 no.jpeg', '23 no.jpg', '19 no.jpg', 'No14.jpg', '5 no.jpg', 'no 2.jpg', '25 no.jpg', 'no 91.jpeg', 'No18.jpg', 'N21.jpg', 'no 94.jpg', 'No16.jpg', '22 no.jpg', 'N20.JPG', 'N11.jpg', '17 no.jpg', 'No17.jpg', '34 no.jpg', '31 no.jpg', '26 no.jpg', 'N1.JPG', 'No22.jpg', '6 no.jpg', 'no 92.jpg', 'no 5.jpeg', '44no.jpg', 'no 6.jpg', '10 no.jpg', '29 no.jpg', 'no 95.jpg', '42 no.jpg', '33 no.jpg', '13 no.jpg', 'no 1.jpg', '48 no.jpeg', 'N6.jpg', '2 no.jpeg', 'N19.JPG', '28 no.jpg', 'N17.jpg', '50 no.jpg', '7 no.jpg', 'No15.jpg', 'no 3.jpg', 'N16.jpg']\n"
          ],
          "name": "stdout"
        }
      ]
    },
    {
      "cell_type": "markdown",
      "metadata": {
        "id": "VHUDTOq7m1kq",
        "colab_type": "text"
      },
      "source": [
        "### **Upload data**"
      ]
    },
    {
      "cell_type": "markdown",
      "metadata": {
        "id": "81xcwi5unlRL",
        "colab_type": "text"
      },
      "source": [
        "### Yes"
      ]
    },
    {
      "cell_type": "code",
      "metadata": {
        "id": "XgGXk5nOja--",
        "colab_type": "code",
        "colab": {}
      },
      "source": [
        "original_dataset_dir = '/content'\n",
        "base_dir = '/content/yes_and_no'\n",
        "os.mkdir(base_dir)"
      ],
      "execution_count": 0,
      "outputs": []
    },
    {
      "cell_type": "code",
      "metadata": {
        "id": "QuEq2bSlk1Zh",
        "colab_type": "code",
        "colab": {}
      },
      "source": [
        "train_dir = os.path.join(base_dir, 'train')\n",
        "os.mkdir(train_dir)\n",
        "\n",
        "validation_dir = os.path.join(base_dir, 'validation')\n",
        "os.mkdir(validation_dir)\n",
        "\n",
        "test_dir = os.path.join(base_dir, 'test')\n",
        "os.mkdir(test_dir)\n",
        "\n",
        "train_yes_dir = os.path.join(train_dir, 'yes')\n",
        "os.mkdir(train_yes_dir)\n",
        "\n",
        "train_no_dir = os.path.join(train_dir, 'no')\n",
        "os.mkdir(train_no_dir)\n",
        "\n",
        "validation_yes_dir = os.path.join(validation_dir, 'yes')\n",
        "os.mkdir(validation_yes_dir)\n",
        "\n",
        "validation_no_dir = os.path.join(validation_dir, 'no')\n",
        "os.mkdir(validation_no_dir)\n",
        "\n",
        "test_yes_dir = os.path.join(test_dir, 'yes')\n",
        "os.mkdir(test_yes_dir)\n",
        "\n",
        "test_no_dir = os.path.join(test_dir, 'no')\n",
        "os.mkdir(test_no_dir)"
      ],
      "execution_count": 0,
      "outputs": []
    },
    {
      "cell_type": "code",
      "metadata": {
        "id": "evjtnIg6lFXQ",
        "colab_type": "code",
        "colab": {
          "base_uri": "https://localhost:8080/",
          "height": 34
        },
        "outputId": "8e27ce14-6704-464b-e178-94183db4715a"
      },
      "source": [
        "print(os.listdir('/content/yes_and_no'))"
      ],
      "execution_count": 6,
      "outputs": [
        {
          "output_type": "stream",
          "text": [
            "['validation', 'test', 'train']\n"
          ],
          "name": "stdout"
        }
      ]
    },
    {
      "cell_type": "code",
      "metadata": {
        "id": "Jeg8OVV1lrFs",
        "colab_type": "code",
        "colab": {
          "base_uri": "https://localhost:8080/",
          "height": 72
        },
        "outputId": "d634a2cb-928d-4950-ea9c-16c4163a4fef"
      },
      "source": [
        "print(os.listdir('/content/no'))\n",
        "print(os.listdir('/content/yes'))"
      ],
      "execution_count": 7,
      "outputs": [
        {
          "output_type": "stream",
          "text": [
            "['15 no.jpg', 'no 923.jpg', 'N2.JPG', '38 no.jpg', 'no 99.jpg', 'No19.jpg', 'N5.jpg', 'no 100.jpg', '4 no.jpg', 'N22.JPG', 'No21.jpg', '18 no.jpg', 'No13.jpg', '3 no.jpg', '14 no.jpg', 'no 9.png', 'no 4.jpg', '30 no.jpg', 'no 97.jpg', '12 no.jpg', '40 no.jpg', '9 no.jpg', '45 no.jpg', '47 no.jpg', '49 no.jpg', '11 no.jpg', 'No20.jpg', 'No12.jpg', 'no 90.jpg', '43 no.jpg', '35 no.jpg', '21 no.jpg', '20 no.jpg', '27 no.jpg', 'no 98.jpg', '41 no.jpg', 'N26.JPG', '32 no.jpg', '39 no.jpg', '46 no.jpg', 'no 10.jpg', 'No11.jpg', '36 no.jpg', '8 no.jpg', 'no 8.jpg', 'no 89.jpg', 'N3.jpg', 'no.jpg', 'N15.jpg', '24 no.jpg', 'no 7.jpeg', 'no 96.jpg', '37 no.jpg', '1 no.jpeg', '23 no.jpg', '19 no.jpg', 'No14.jpg', '5 no.jpg', 'no 2.jpg', '25 no.jpg', 'no 91.jpeg', 'No18.jpg', 'N21.jpg', 'no 94.jpg', 'No16.jpg', '22 no.jpg', 'N20.JPG', 'N11.jpg', '17 no.jpg', 'No17.jpg', '34 no.jpg', '31 no.jpg', '26 no.jpg', 'N1.JPG', 'No22.jpg', '6 no.jpg', 'no 92.jpg', 'no 5.jpeg', '44no.jpg', 'no 6.jpg', '10 no.jpg', '29 no.jpg', 'no 95.jpg', '42 no.jpg', '33 no.jpg', '13 no.jpg', 'no 1.jpg', '48 no.jpeg', 'N6.jpg', '2 no.jpeg', 'N19.JPG', '28 no.jpg', 'N17.jpg', '50 no.jpg', '7 no.jpg', 'No15.jpg', 'no 3.jpg', 'N16.jpg']\n",
            "['Y74.jpg', 'Y92.png', 'Y246.JPG', 'Y107.jpg', 'Y247.JPG', 'Y97.JPG', 'Y146.JPG', 'Y69.jpg', 'Y95.jpg', 'Y56.jpg', 'Y58.JPG', 'Y9.jpg', 'Y53.jpg', 'Y11.jpg', 'Y20.jpg', 'Y120.JPG', 'Y162.jpg', 'Y41.jpg', 'Y13.jpg', 'Y165.JPG', 'Y111.JPG', 'Y188.jpg', 'Y192.JPG', 'Y251.JPG', 'Y112.JPG', 'Y183.jpg', 'Y1.jpg', 'Y244.JPG', 'Y105.jpg', 'Y59.JPG', 'Y28.jpg', 'Y32.jpg', 'Y78.jpg', 'Y170.JPG', 'Y104.jpg', 'Y75.JPG', 'Y39.jpg', 'Y154.jpg', 'Y52.jpg', 'Y163.JPG', 'Y180.jpg', 'Y36.JPG', 'Y24.jpg', 'Y50.JPG', 'Y181.jpg', 'Y182.JPG', 'Y8.jpg', 'Y255.JPG', 'Y158.JPG', 'Y157.JPG', 'Y98.JPG', 'Y12.jpg', 'Y82.jpg', 'Y6.jpg', 'Y62.jpg', 'Y250.jpg', 'Y92.jpg', 'Y19.JPG', 'Y85.JPG', 'Y81.jpg', 'Y47.JPG', 'Y70.jpg', 'Y114.JPG', 'Y254.jpg', 'Y161.JPG', 'Y116.JPG', 'Y102.jpg', 'Y76.jpg', 'Y115.JPG', 'Y55.jpg', 'Y30.jpg', 'Y155.JPG', 'Y187.jpg', 'Y67.JPG', 'Y117.JPG', 'Y79.jpg', 'Y257.jpg', 'Y27.jpg', 'Y184.JPG', 'Y7.jpg', 'Y34.jpg', 'Y2.jpg', 'Y54.jpg', 'Y99.JPG', 'Y164.JPG', 'Y60.jpg', 'Y169.jpg', 'Y25.jpg', 'Y44.JPG', 'Y153.jpg', 'Y113.JPG', 'Y40.JPG', 'Y89.JPG', 'Y23.JPG', 'Y166.JPG', 'Y15.jpg', 'Y109.JPG', 'Y49.JPG', 'Y248.JPG', 'Y147.JPG', 'Y21.jpg', 'Y35.jpg', 'Y90.jpg', 'Y100.JPG', 'Y256.JPG', 'Y26.jpg', 'Y252.jpg', 'Y156.JPG', 'Y71.JPG', 'Y108.jpg', 'Y91.jpg', 'Y193.JPG', 'Y65.JPG', 'Y51.jpg', 'Y245.jpg', 'Y46.jpg', 'Y73.jpg', 'Y101.jpg', 'Y37.jpg', 'Y4.jpg', 'Y185.jpg', 'Y242.JPG', 'Y10.jpg', 'Y29.jpg', 'Y16.JPG', 'Y259.JPG', 'Y96.jpg', 'Y249.JPG', 'Y159.JPG', 'Y3.jpg', 'Y186.jpg', 'Y18.JPG', 'Y66.JPG', 'Y195.JPG', 'Y61.jpg', 'Y45.JPG', 'Y253.JPG', 'Y31.jpg', 'Y168.jpg', 'Y86.JPG', 'Y33.jpg', 'Y17.jpg', 'Y103.jpg', 'Y106.jpg', 'Y14.jpg', 'Y160.JPG', 'Y42.jpg', 'Y194.jpg', 'Y167.JPG', 'Y22.jpg', 'Y258.JPG', 'Y148.JPG', 'Y38.jpg', 'Y243.JPG', 'Y77.jpg']\n"
          ],
          "name": "stdout"
        }
      ]
    },
    {
      "cell_type": "code",
      "metadata": {
        "id": "ykBpiifxsuKJ",
        "colab_type": "code",
        "colab": {
          "base_uri": "https://localhost:8080/",
          "height": 125
        },
        "outputId": "57a8ce3b-54c3-4b95-f226-f31155200153"
      },
      "source": [
        "import math\n",
        "path, dirs, files_y = next(os.walk(\"/content/yes\"))\n",
        "file_count = len(files_y)\n",
        "print(files_y)\n",
        "print(file_count)\n",
        "tr_y = math.ceil(file_count/2)\n",
        "va_y = math.ceil(tr_y + tr_y/2)\n",
        "te_y = file_count\n",
        "print(tr_y, va_y, te_y)\n",
        "path, dirs, files_n = next(os.walk(\"/content/no\"))\n",
        "file_count = len(files_n)\n",
        "print(file_count)\n",
        "tr_n = math.ceil(file_count/2)\n",
        "va_n = math.ceil(tr_n + tr_n/2)\n",
        "te_n = file_count\n",
        "print(tr_n, va_n, te_n)"
      ],
      "execution_count": 8,
      "outputs": [
        {
          "output_type": "stream",
          "text": [
            "['Y74.jpg', 'Y92.png', 'Y246.JPG', 'Y107.jpg', 'Y247.JPG', 'Y97.JPG', 'Y146.JPG', 'Y69.jpg', 'Y95.jpg', 'Y56.jpg', 'Y58.JPG', 'Y9.jpg', 'Y53.jpg', 'Y11.jpg', 'Y20.jpg', 'Y120.JPG', 'Y162.jpg', 'Y41.jpg', 'Y13.jpg', 'Y165.JPG', 'Y111.JPG', 'Y188.jpg', 'Y192.JPG', 'Y251.JPG', 'Y112.JPG', 'Y183.jpg', 'Y1.jpg', 'Y244.JPG', 'Y105.jpg', 'Y59.JPG', 'Y28.jpg', 'Y32.jpg', 'Y78.jpg', 'Y170.JPG', 'Y104.jpg', 'Y75.JPG', 'Y39.jpg', 'Y154.jpg', 'Y52.jpg', 'Y163.JPG', 'Y180.jpg', 'Y36.JPG', 'Y24.jpg', 'Y50.JPG', 'Y181.jpg', 'Y182.JPG', 'Y8.jpg', 'Y255.JPG', 'Y158.JPG', 'Y157.JPG', 'Y98.JPG', 'Y12.jpg', 'Y82.jpg', 'Y6.jpg', 'Y62.jpg', 'Y250.jpg', 'Y92.jpg', 'Y19.JPG', 'Y85.JPG', 'Y81.jpg', 'Y47.JPG', 'Y70.jpg', 'Y114.JPG', 'Y254.jpg', 'Y161.JPG', 'Y116.JPG', 'Y102.jpg', 'Y76.jpg', 'Y115.JPG', 'Y55.jpg', 'Y30.jpg', 'Y155.JPG', 'Y187.jpg', 'Y67.JPG', 'Y117.JPG', 'Y79.jpg', 'Y257.jpg', 'Y27.jpg', 'Y184.JPG', 'Y7.jpg', 'Y34.jpg', 'Y2.jpg', 'Y54.jpg', 'Y99.JPG', 'Y164.JPG', 'Y60.jpg', 'Y169.jpg', 'Y25.jpg', 'Y44.JPG', 'Y153.jpg', 'Y113.JPG', 'Y40.JPG', 'Y89.JPG', 'Y23.JPG', 'Y166.JPG', 'Y15.jpg', 'Y109.JPG', 'Y49.JPG', 'Y248.JPG', 'Y147.JPG', 'Y21.jpg', 'Y35.jpg', 'Y90.jpg', 'Y100.JPG', 'Y256.JPG', 'Y26.jpg', 'Y252.jpg', 'Y156.JPG', 'Y71.JPG', 'Y108.jpg', 'Y91.jpg', 'Y193.JPG', 'Y65.JPG', 'Y51.jpg', 'Y245.jpg', 'Y46.jpg', 'Y73.jpg', 'Y101.jpg', 'Y37.jpg', 'Y4.jpg', 'Y185.jpg', 'Y242.JPG', 'Y10.jpg', 'Y29.jpg', 'Y16.JPG', 'Y259.JPG', 'Y96.jpg', 'Y249.JPG', 'Y159.JPG', 'Y3.jpg', 'Y186.jpg', 'Y18.JPG', 'Y66.JPG', 'Y195.JPG', 'Y61.jpg', 'Y45.JPG', 'Y253.JPG', 'Y31.jpg', 'Y168.jpg', 'Y86.JPG', 'Y33.jpg', 'Y17.jpg', 'Y103.jpg', 'Y106.jpg', 'Y14.jpg', 'Y160.JPG', 'Y42.jpg', 'Y194.jpg', 'Y167.JPG', 'Y22.jpg', 'Y258.JPG', 'Y148.JPG', 'Y38.jpg', 'Y243.JPG', 'Y77.jpg']\n",
            "155\n",
            "78 117 155\n",
            "98\n",
            "49 74 98\n"
          ],
          "name": "stdout"
        }
      ]
    },
    {
      "cell_type": "code",
      "metadata": {
        "id": "k6VgIkk4lNzY",
        "colab_type": "code",
        "colab": {}
      },
      "source": [
        "import shutil\n",
        "\n",
        "original_dataset_dir = '/content/yes'\n",
        "i = 0\n",
        "for fname in files_y:\n",
        "  #print(fname)\n",
        "  i += 1\n",
        "  if(i <= tr_y):\n",
        "    src = os.path.join(original_dataset_dir, fname)\n",
        "    dst = os.path.join(train_yes_dir, fname)\n",
        "    #print(src,dst)\n",
        "    shutil.copyfile(src, dst)\n",
        "  elif(i <= va_y):\n",
        "    src = os.path.join(original_dataset_dir, fname)\n",
        "    dst = os.path.join(validation_yes_dir, fname)\n",
        "    shutil.copyfile(src, dst)\n",
        "  else:\n",
        "    src = os.path.join(original_dataset_dir, fname)\n",
        "    dst = os.path.join(test_yes_dir, fname)\n",
        "    shutil.copyfile(src, dst)\n",
        "    \n",
        "i = 0\n",
        "original_dataset_dir = '/content/no'\n",
        "for fname in files_n:\n",
        "  i += 1\n",
        "  if(i <= tr_n):\n",
        "    src = os.path.join(original_dataset_dir, fname)\n",
        "    dst = os.path.join(train_no_dir, fname)\n",
        "    shutil.copyfile(src, dst)\n",
        "  elif(i <= va_n):\n",
        "    src = os.path.join(original_dataset_dir, fname)\n",
        "    dst = os.path.join(validation_no_dir, fname)\n",
        "    shutil.copyfile(src, dst)\n",
        "  else:\n",
        "    src = os.path.join(original_dataset_dir, fname)\n",
        "    dst = os.path.join(test_no_dir, fname)\n",
        "    shutil.copyfile(src, dst)"
      ],
      "execution_count": 0,
      "outputs": []
    },
    {
      "cell_type": "code",
      "metadata": {
        "id": "LxFVDCCtwUlP",
        "colab_type": "code",
        "colab": {
          "base_uri": "https://localhost:8080/",
          "height": 122
        },
        "outputId": "22bd5743-eff0-4507-d693-96282af60dd4"
      },
      "source": [
        "print('total training yes images:', len(os.listdir(train_yes_dir)))\n",
        "print('total training no images:', len(os.listdir(train_no_dir)))\n",
        "print('total validation yes images:', len(os.listdir(validation_yes_dir)))\n",
        "\n",
        "print('total validation no images:', len(os.listdir(validation_no_dir)))\n",
        "print('total test yes images:', len(os.listdir(test_yes_dir)))\n",
        "print('total test no images:', len(os.listdir(test_no_dir)))"
      ],
      "execution_count": 10,
      "outputs": [
        {
          "output_type": "stream",
          "text": [
            "total training yes images: 78\n",
            "total training no images: 49\n",
            "total validation yes images: 39\n",
            "total validation no images: 25\n",
            "total test yes images: 38\n",
            "total test no images: 24\n"
          ],
          "name": "stdout"
        }
      ]
    },
    {
      "cell_type": "code",
      "metadata": {
        "id": "ACAJVu1w-Pph",
        "colab_type": "code",
        "colab": {
          "base_uri": "https://localhost:8080/",
          "height": 545
        },
        "outputId": "9c1273de-e3fd-40fe-f95c-4de15b0fe755"
      },
      "source": [
        "import tensorflow as tf\n",
        "\n",
        "model = tf.keras.models.Sequential() \n",
        "model.add(tf.keras.layers.Conv2D(32, (3, 3), activation='relu', input_shape=(150, 150, 3))) \n",
        "model.add(tf.keras.layers.MaxPooling2D((2, 2))) \n",
        "model.add(tf.keras.layers.Conv2D(64, (3, 3), activation='relu')) \n",
        "model.add(tf.keras.layers.MaxPooling2D((2, 2))) \n",
        "model.add(tf.keras.layers.Conv2D(128, (3, 3), activation='relu')) \n",
        "model.add(tf.keras.layers.MaxPooling2D((2, 2))) \n",
        "model.add(tf.keras.layers.Conv2D(128, (3, 3), activation='relu')) \n",
        "model.add(tf.keras.layers.MaxPooling2D((2, 2))) \n",
        "model.add(tf.keras.layers.Flatten()) \n",
        "model.add(tf.keras.layers.Dense(512, activation='relu')) \n",
        "model.add(tf.keras.layers.Dense(1, activation='sigmoid')) \n",
        "model.summary()"
      ],
      "execution_count": 23,
      "outputs": [
        {
          "output_type": "stream",
          "text": [
            "Model: \"sequential_1\"\n",
            "_________________________________________________________________\n",
            "Layer (type)                 Output Shape              Param #   \n",
            "=================================================================\n",
            "conv2d_4 (Conv2D)            (None, 148, 148, 32)      896       \n",
            "_________________________________________________________________\n",
            "max_pooling2d_4 (MaxPooling2 (None, 74, 74, 32)        0         \n",
            "_________________________________________________________________\n",
            "conv2d_5 (Conv2D)            (None, 72, 72, 64)        18496     \n",
            "_________________________________________________________________\n",
            "max_pooling2d_5 (MaxPooling2 (None, 36, 36, 64)        0         \n",
            "_________________________________________________________________\n",
            "conv2d_6 (Conv2D)            (None, 34, 34, 128)       73856     \n",
            "_________________________________________________________________\n",
            "max_pooling2d_6 (MaxPooling2 (None, 17, 17, 128)       0         \n",
            "_________________________________________________________________\n",
            "conv2d_7 (Conv2D)            (None, 15, 15, 128)       147584    \n",
            "_________________________________________________________________\n",
            "max_pooling2d_7 (MaxPooling2 (None, 7, 7, 128)         0         \n",
            "_________________________________________________________________\n",
            "flatten_1 (Flatten)          (None, 6272)              0         \n",
            "_________________________________________________________________\n",
            "dense_2 (Dense)              (None, 512)               3211776   \n",
            "_________________________________________________________________\n",
            "dense_3 (Dense)              (None, 1)                 513       \n",
            "=================================================================\n",
            "Total params: 3,453,121\n",
            "Trainable params: 3,453,121\n",
            "Non-trainable params: 0\n",
            "_________________________________________________________________\n"
          ],
          "name": "stdout"
        }
      ]
    },
    {
      "cell_type": "code",
      "metadata": {
        "id": "Yt8EKWfW9oQ9",
        "colab_type": "code",
        "colab": {}
      },
      "source": [
        "model.compile(loss='binary_crossentropy', \n",
        "              optimizer=tf.keras.optimizers.RMSprop(lr=1e-4),\n",
        "              metrics=['acc'])"
      ],
      "execution_count": 0,
      "outputs": []
    },
    {
      "cell_type": "code",
      "metadata": {
        "id": "HDCHyavH9sTM",
        "colab_type": "code",
        "colab": {
          "base_uri": "https://localhost:8080/",
          "height": 52
        },
        "outputId": "e2d008f6-f143-4e42-d68f-3fff65ae6eac"
      },
      "source": [
        "from keras.preprocessing.image import ImageDataGenerator\n",
        "\n",
        "train_datagen = ImageDataGenerator(rescale=1./255)\n",
        "test_datagen = ImageDataGenerator(rescale=1./255)\n",
        "\n",
        "train_generator = train_datagen.flow_from_directory(train_dir,\n",
        "                                                    target_size=(150, 150), \n",
        "                                                    batch_size=20,\n",
        "                                                    class_mode='binary')\n",
        "\n",
        "validation_generator = test_datagen.flow_from_directory(validation_dir,\n",
        "                                                        target_size=(150, 150),\n",
        "                                                        batch_size=20,\n",
        "                                                        class_mode='binary')"
      ],
      "execution_count": 26,
      "outputs": [
        {
          "output_type": "stream",
          "text": [
            "Found 127 images belonging to 2 classes.\n",
            "Found 64 images belonging to 2 classes.\n"
          ],
          "name": "stdout"
        }
      ]
    },
    {
      "cell_type": "code",
      "metadata": {
        "id": "h_opsQ749tsA",
        "colab_type": "code",
        "colab": {
          "base_uri": "https://localhost:8080/",
          "height": 1000
        },
        "outputId": "a32912b7-4310-4f15-9742-48c92298b6ec"
      },
      "source": [
        "history = model.fit_generator(train_generator,\n",
        "                              steps_per_epoch=100,\n",
        "                              epochs=30,\n",
        "                              validation_data=validation_generator,\n",
        "                              validation_steps=10)"
      ],
      "execution_count": 27,
      "outputs": [
        {
          "output_type": "stream",
          "text": [
            "WARNING:tensorflow:From <ipython-input-27-e50fa6d58364>:5: Model.fit_generator (from tensorflow.python.keras.engine.training) is deprecated and will be removed in a future version.\n",
            "Instructions for updating:\n",
            "Please use Model.fit, which supports generators.\n",
            "Epoch 1/30\n",
            "100/100 [==============================] - 84s 842ms/step - loss: 0.4272 - acc: 0.8031 - val_loss: 0.5694 - val_acc: 0.7381\n",
            "Epoch 2/30\n",
            "100/100 [==============================] - 84s 839ms/step - loss: 0.2358 - acc: 0.9054 - val_loss: 0.6078 - val_acc: 0.7632\n",
            "Epoch 3/30\n",
            "100/100 [==============================] - 83s 835ms/step - loss: 0.0757 - acc: 0.9807 - val_loss: 0.8937 - val_acc: 0.8158\n",
            "Epoch 4/30\n",
            "100/100 [==============================] - 84s 837ms/step - loss: 0.0189 - acc: 0.9961 - val_loss: 0.6654 - val_acc: 0.8036\n",
            "Epoch 5/30\n",
            "100/100 [==============================] - 84s 836ms/step - loss: 0.0057 - acc: 0.9983 - val_loss: 0.9018 - val_acc: 0.7917\n",
            "Epoch 6/30\n",
            "100/100 [==============================] - 84s 836ms/step - loss: 0.0042 - acc: 0.9978 - val_loss: 0.9557 - val_acc: 0.7961\n",
            "Epoch 7/30\n",
            "100/100 [==============================] - 84s 837ms/step - loss: 8.5036e-05 - acc: 1.0000 - val_loss: 1.3900 - val_acc: 0.8092\n",
            "Epoch 8/30\n",
            "100/100 [==============================] - 84s 841ms/step - loss: 0.0072 - acc: 0.9983 - val_loss: 1.2792 - val_acc: 0.7857\n",
            "Epoch 9/30\n",
            "100/100 [==============================] - 84s 838ms/step - loss: 0.0036 - acc: 0.9989 - val_loss: 1.1745 - val_acc: 0.8214\n",
            "Epoch 10/30\n",
            "100/100 [==============================] - 84s 836ms/step - loss: 1.4915e-05 - acc: 1.0000 - val_loss: 1.6192 - val_acc: 0.8026\n",
            "Epoch 11/30\n",
            "100/100 [==============================] - 84s 840ms/step - loss: 7.7204e-07 - acc: 1.0000 - val_loss: 2.0658 - val_acc: 0.7895\n",
            "Epoch 12/30\n",
            "100/100 [==============================] - 84s 843ms/step - loss: 4.4014e-08 - acc: 1.0000 - val_loss: 2.8354 - val_acc: 0.7976\n",
            "Epoch 13/30\n",
            "100/100 [==============================] - 84s 842ms/step - loss: 1.1699e-08 - acc: 1.0000 - val_loss: 2.3727 - val_acc: 0.7917\n",
            "Epoch 14/30\n",
            "100/100 [==============================] - 84s 837ms/step - loss: 7.1478e-09 - acc: 1.0000 - val_loss: 2.1168 - val_acc: 0.8092\n",
            "Epoch 15/30\n",
            "100/100 [==============================] - 84s 842ms/step - loss: 5.6625e-09 - acc: 1.0000 - val_loss: 2.3369 - val_acc: 0.8026\n",
            "Epoch 16/30\n",
            "100/100 [==============================] - 84s 843ms/step - loss: 5.0620e-09 - acc: 1.0000 - val_loss: 2.6752 - val_acc: 0.8155\n",
            "Epoch 17/30\n",
            "100/100 [==============================] - 85s 846ms/step - loss: 4.6385e-09 - acc: 1.0000 - val_loss: 2.4251 - val_acc: 0.7976\n",
            "Epoch 18/30\n",
            "100/100 [==============================] - 85s 846ms/step - loss: 4.4008e-09 - acc: 1.0000 - val_loss: 3.0057 - val_acc: 0.7961\n",
            "Epoch 19/30\n",
            "100/100 [==============================] - 84s 844ms/step - loss: 4.5079e-09 - acc: 1.0000 - val_loss: 1.9842 - val_acc: 0.8026\n",
            "Epoch 20/30\n",
            "100/100 [==============================] - 84s 844ms/step - loss: 4.5454e-09 - acc: 1.0000 - val_loss: 2.3623 - val_acc: 0.7917\n",
            "Epoch 21/30\n",
            "100/100 [==============================] - 84s 840ms/step - loss: 4.3741e-09 - acc: 1.0000 - val_loss: 2.6828 - val_acc: 0.8155\n",
            "Epoch 22/30\n",
            "100/100 [==============================] - 84s 844ms/step - loss: 4.3489e-09 - acc: 1.0000 - val_loss: 2.8183 - val_acc: 0.7763\n",
            "Epoch 23/30\n",
            "100/100 [==============================] - 84s 841ms/step - loss: 4.3963e-09 - acc: 1.0000 - val_loss: 3.7690 - val_acc: 0.7961\n",
            "Epoch 24/30\n",
            "100/100 [==============================] - 84s 844ms/step - loss: 4.2117e-09 - acc: 1.0000 - val_loss: 2.4209 - val_acc: 0.7738\n",
            "Epoch 25/30\n",
            "100/100 [==============================] - 84s 842ms/step - loss: 4.1175e-09 - acc: 1.0000 - val_loss: 3.6983 - val_acc: 0.7857\n",
            "Epoch 26/30\n",
            "100/100 [==============================] - 84s 844ms/step - loss: 4.2415e-09 - acc: 1.0000 - val_loss: 2.0130 - val_acc: 0.7961\n",
            "Epoch 27/30\n",
            "100/100 [==============================] - 84s 842ms/step - loss: 4.4325e-09 - acc: 1.0000 - val_loss: 2.3847 - val_acc: 0.8092\n",
            "Epoch 28/30\n",
            "100/100 [==============================] - 84s 838ms/step - loss: 4.4168e-09 - acc: 1.0000 - val_loss: 1.9286 - val_acc: 0.8155\n",
            "Epoch 29/30\n",
            "100/100 [==============================] - 85s 846ms/step - loss: 4.3654e-09 - acc: 1.0000 - val_loss: 2.5140 - val_acc: 0.7976\n",
            "Epoch 30/30\n",
            "100/100 [==============================] - 85s 847ms/step - loss: 4.4883e-09 - acc: 1.0000 - val_loss: 2.5225 - val_acc: 0.8026\n"
          ],
          "name": "stdout"
        }
      ]
    },
    {
      "cell_type": "code",
      "metadata": {
        "id": "Ghjvkrd29w78",
        "colab_type": "code",
        "colab": {
          "base_uri": "https://localhost:8080/",
          "height": 545
        },
        "outputId": "a53370e9-b3c7-4051-fadd-9ae6304bd497"
      },
      "source": [
        "model.save('yes_and_no_1.h5')\n",
        "\n",
        "import matplotlib.pyplot as plt\n",
        "\n",
        "acc = history.history['acc']\n",
        "val_acc = history.history['val_acc']\n",
        "loss = history.history['loss']\n",
        "val_loss = history.history['val_loss']\n",
        "\n",
        "epochs = range(1, len(acc) + 1)\n",
        "\n",
        "plt.plot(epochs, acc, 'bo', label='Training acc')\n",
        "plt.plot(epochs, val_acc, 'b', label='Validation acc')\n",
        "plt.title('Training and validation accuracy')\n",
        "plt.legend()\n",
        "\n",
        "plt.figure()\n",
        "\n",
        "plt.plot(epochs, loss, 'bo', label='Training loss')\n",
        "plt.plot(epochs, val_loss, 'b', label='Validation loss')\n",
        "plt.title('Training and validation loss')\n",
        "plt.legend()\n",
        "\n",
        "plt.show()"
      ],
      "execution_count": 28,
      "outputs": [
        {
          "output_type": "display_data",
          "data": {
            "image/png": "[encoded data removed]",
            "text/plain": [
              "<Figure size 432x288 with 1 Axes>"
            ]
          },
          "metadata": {
            "tags": []
          }
        },
        {
          "output_type": "display_data",
          "data": {
            "image/png": "[encoded data removed]",
            "text/plain": [
              "<Figure size 432x288 with 1 Axes>"
            ]
          },
          "metadata": {
            "tags": []
          }
        }
      ]
    },
    {
      "cell_type": "code",
      "metadata": {
        "id": "XyHxRI2Q_uPd",
        "colab_type": "code",
        "colab": {}
      },
      "source": [
        "model = tf.keras.models.Sequential()\n",
        "model.add(tf.keras.layers.Conv2D(32, (3, 3), activation='sigmoid',\n",
        "input_shape=(150, 150, 3)))\n",
        "model.add(tf.keras.layers.MaxPooling2D((2, 2)))\n",
        "model.add(tf.keras.layers.Conv2D(64, (3, 3), activation='tanh'))\n",
        "model.add(tf.keras.layers.MaxPooling2D((2, 2)))\n",
        "model.add(tf.keras.layers.Conv2D(128, (3, 3), activation='softmax'))\n",
        "model.add(tf.keras.layers.MaxPooling2D((2, 2)))\n",
        "model.add(tf.keras.layers.Conv2D(128, (3, 3), activation='relu'))\n",
        "model.add(tf.keras.layers.MaxPooling2D((2, 2)))\n",
        "model.add(tf.keras.layers.Flatten())\n",
        "model.add(tf.keras.layers.Dropout(0.5))\n",
        "model.add(tf.keras.layers.Dense(512, activation='relu'))\n",
        "model.add(tf.keras.layers.Dense(1, activation='sigmoid'))\n",
        "\n",
        "model.compile(loss='binary_crossentropy',\n",
        "              optimizer=tf.keras.optimizers.RMSprop(lr=1e-4),\n",
        "              metrics=['acc'])"
      ],
      "execution_count": 0,
      "outputs": []
    },
    {
      "cell_type": "code",
      "metadata": {
        "id": "lNZOI4-L_ybP",
        "colab_type": "code",
        "colab": {
          "base_uri": "https://localhost:8080/",
          "height": 756
        },
        "outputId": "3ac9cb68-9b78-454b-d41d-e0f339f4ba07"
      },
      "source": [
        "train_datagen = ImageDataGenerator(rescale=1./255,\n",
        "                                   rotation_range=40,\n",
        "                                   width_shift_range=0.2,\n",
        "                                   height_shift_range=0.2,\n",
        "                                   shear_range=0.2,\n",
        "                                   zoom_range=0.2,\n",
        "                                   horizontal_flip=True,)\n",
        "\n",
        "test_datagen = ImageDataGenerator(rescale=1./255)\n",
        "\n",
        "train_generator = train_datagen.flow_from_directory(train_dir,\n",
        "                                                    target_size=(150, 150),\n",
        "                                                    batch_size=32,\n",
        "                                                    class_mode='binary')\n",
        "\n",
        "validation_generator = test_datagen.flow_from_directory(validation_dir,\n",
        "                                                        target_size=(150, 150),\n",
        "                                                        batch_size=32,\n",
        "                                                        class_mode='binary')\n",
        "\n",
        "history = model.fit_generator(train_generator,\n",
        "                              steps_per_epoch=100,\n",
        "                              epochs=20,\n",
        "                              validation_data=validation_generator,\n",
        "                              validation_steps=50)"
      ],
      "execution_count": 30,
      "outputs": [
        {
          "output_type": "stream",
          "text": [
            "Found 127 images belonging to 2 classes.\n",
            "Found 64 images belonging to 2 classes.\n",
            "Epoch 1/20\n",
            "100/100 [==============================] - 184s 2s/step - loss: 0.6700 - acc: 0.6117 - val_loss: 0.6691 - val_acc: 0.6094\n",
            "Epoch 2/20\n",
            "100/100 [==============================] - 186s 2s/step - loss: 0.6695 - acc: 0.6142 - val_loss: 0.6684 - val_acc: 0.6094\n",
            "Epoch 3/20\n",
            "100/100 [==============================] - 193s 2s/step - loss: 0.6679 - acc: 0.6142 - val_loss: 0.6659 - val_acc: 0.6094\n",
            "Epoch 4/20\n",
            "100/100 [==============================] - 189s 2s/step - loss: 0.6621 - acc: 0.6142 - val_loss: 0.6537 - val_acc: 0.6106\n",
            "Epoch 5/20\n",
            "100/100 [==============================] - 188s 2s/step - loss: 0.6380 - acc: 0.6280 - val_loss: 0.6445 - val_acc: 0.6094\n",
            "Epoch 6/20\n",
            "100/100 [==============================] - 187s 2s/step - loss: 0.6073 - acc: 0.6687 - val_loss: 0.6277 - val_acc: 0.7025\n",
            "Epoch 7/20\n",
            "100/100 [==============================] - 186s 2s/step - loss: 0.5953 - acc: 0.6923 - val_loss: 0.7279 - val_acc: 0.6406\n",
            "Epoch 8/20\n",
            "100/100 [==============================] - 185s 2s/step - loss: 0.5863 - acc: 0.7068 - val_loss: 0.6259 - val_acc: 0.7038\n",
            "Epoch 9/20\n",
            "100/100 [==============================] - 183s 2s/step - loss: 0.5697 - acc: 0.7169 - val_loss: 0.6849 - val_acc: 0.6719\n",
            "Epoch 10/20\n",
            "100/100 [==============================] - 182s 2s/step - loss: 0.5698 - acc: 0.7083 - val_loss: 0.6472 - val_acc: 0.6700\n",
            "Epoch 11/20\n",
            "100/100 [==============================] - 181s 2s/step - loss: 0.5604 - acc: 0.7112 - val_loss: 0.6068 - val_acc: 0.6719\n",
            "Epoch 12/20\n",
            "100/100 [==============================] - 181s 2s/step - loss: 0.5627 - acc: 0.7061 - val_loss: 0.6499 - val_acc: 0.6694\n",
            "Epoch 13/20\n",
            "100/100 [==============================] - 181s 2s/step - loss: 0.5457 - acc: 0.7263 - val_loss: 0.6347 - val_acc: 0.6719\n",
            "Epoch 14/20\n",
            "100/100 [==============================] - 181s 2s/step - loss: 0.5327 - acc: 0.7376 - val_loss: 0.6334 - val_acc: 0.6725\n",
            "Epoch 15/20\n",
            "100/100 [==============================] - 181s 2s/step - loss: 0.5343 - acc: 0.7329 - val_loss: 0.6614 - val_acc: 0.6719\n",
            "Epoch 16/20\n",
            "100/100 [==============================] - 181s 2s/step - loss: 0.5315 - acc: 0.7345 - val_loss: 0.7062 - val_acc: 0.6875\n",
            "Epoch 17/20\n",
            "100/100 [==============================] - 181s 2s/step - loss: 0.5315 - acc: 0.7272 - val_loss: 0.6672 - val_acc: 0.6719\n",
            "Epoch 18/20\n",
            "100/100 [==============================] - 180s 2s/step - loss: 0.5049 - acc: 0.7468 - val_loss: 0.6188 - val_acc: 0.6906\n",
            "Epoch 19/20\n",
            "100/100 [==============================] - 181s 2s/step - loss: 0.5157 - acc: 0.7392 - val_loss: 0.6445 - val_acc: 0.6562\n",
            "Epoch 20/20\n",
            "100/100 [==============================] - 181s 2s/step - loss: 0.5002 - acc: 0.7550 - val_loss: 0.6088 - val_acc: 0.7344\n"
          ],
          "name": "stdout"
        }
      ]
    },
    {
      "cell_type": "code",
      "metadata": {
        "id": "C4RsbHPF_1SQ",
        "colab_type": "code",
        "colab": {
          "base_uri": "https://localhost:8080/",
          "height": 545
        },
        "outputId": "afb7e1d8-ee24-4cb3-fb4d-9f17990ea6d6"
      },
      "source": [
        "model.save('yes_and_no_1.h5')\n",
        "\n",
        "import matplotlib.pyplot as plt\n",
        "\n",
        "acc = history.history['acc']\n",
        "val_acc = history.history['val_acc']\n",
        "loss = history.history['loss']\n",
        "val_loss = history.history['val_loss']\n",
        "\n",
        "epochs = range(1, len(acc) + 1)\n",
        "\n",
        "plt.plot(epochs, acc, 'bo', label='Training acc')\n",
        "plt.plot(epochs, val_acc, 'b', label='Validation acc')\n",
        "plt.title('Training and validation accuracy')\n",
        "plt.legend()\n",
        "\n",
        "plt.figure()\n",
        "\n",
        "plt.plot(epochs, loss, 'bo', label='Training loss')\n",
        "plt.plot(epochs, val_loss, 'b', label='Validation loss')\n",
        "plt.title('Training and validation loss')\n",
        "plt.legend()\n",
        "\n",
        "plt.show()"
      ],
      "execution_count": 31,
      "outputs": [
        {
          "output_type": "display_data",
          "data": {
            "image/png": "[encoded data removed]",
            "text/plain": [
              "<Figure size 432x288 with 1 Axes>"
            ]
          },
          "metadata": {
            "tags": []
          }
        },
        {
          "output_type": "display_data",
          "data": {
            "image/png": "[encoded data removed]",
            "text/plain": [
              "<Figure size 432x288 with 1 Axes>"
            ]
          },
          "metadata": {
            "tags": []
          }
        }
      ]
    }
  ]
}