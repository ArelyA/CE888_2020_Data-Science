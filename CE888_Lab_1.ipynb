{
  "nbformat": 4,
  "nbformat_minor": 0,
  "metadata": {
    "kernelspec": {
      "display_name": "Python 3",
      "language": "python",
      "name": "python3"
    },
    "language_info": {
      "codemirror_mode": {
        "name": "ipython",
        "version": 3
      },
      "file_extension": ".py",
      "mimetype": "text/x-python",
      "name": "python",
      "nbconvert_exporter": "python",
      "pygments_lexer": "ipython3",
      "version": "3.7.3"
    },
    "colab": {
      "name": "CE888_Lab 1.ipynb",
      "provenance": [],
      "include_colab_link": true
    }
  },
  "cells": [
    {
      "cell_type": "markdown",
      "metadata": {
        "id": "view-in-github",
        "colab_type": "text"
      },
      "source": [
        "<a href=\"https://colab.research.google.com/github/ArelyA/CE888_2020_Data-Science/blob/master/Labs/CE888_Lab_1.ipynb\" target=\"_parent\"><img src=\"https://colab.research.google.com/assets/colab-badge.svg\" alt=\"Open In Colab\"/></a>"
      ]
    },
    {
      "cell_type": "markdown",
      "metadata": {
        "id": "jEZvf9N1FcVS",
        "colab_type": "text"
      },
      "source": [
        "# CE888: Data Science and Decision Making\n",
        "## Lab 1 (15.01.2020)"
      ]
    },
    {
      "cell_type": "code",
      "metadata": {
        "id": "DsLeu-OqFcVW",
        "colab_type": "code",
        "colab": {}
      },
      "source": [
        "import numpy as np\n",
        "import random"
      ],
      "execution_count": 0,
      "outputs": []
    },
    {
      "cell_type": "markdown",
      "metadata": {
        "id": "djMjOHGKFcVi",
        "colab_type": "text"
      },
      "source": [
        "#### Create a (4 x 2) integer array and print it's attributes"
      ]
    },
    {
      "cell_type": "code",
      "metadata": {
        "id": "xJZzfUsYFcVk",
        "colab_type": "code",
        "colab": {},
        "outputId": "4af41be8-52d3-4c8c-a710-b087047a804f"
      },
      "source": [
        "arr = np.array([[random.randint(1, 20) for y in range(2)] for x in range(4)])\n",
        "print(arr)"
      ],
      "execution_count": 0,
      "outputs": [
        {
          "output_type": "stream",
          "text": [
            "[[ 2  7]\n",
            " [ 3 18]\n",
            " [ 1 16]\n",
            " [15 17]]\n"
          ],
          "name": "stdout"
        }
      ]
    },
    {
      "cell_type": "markdown",
      "metadata": {
        "id": "ng2GII6yFcVu",
        "colab_type": "text"
      },
      "source": [
        "#### Create an array of dimension (1,10) and sort it in ascending and descending order"
      ]
    },
    {
      "cell_type": "code",
      "metadata": {
        "id": "iruH8yq_FcVx",
        "colab_type": "code",
        "colab": {},
        "outputId": "0b38a4a9-534a-4149-ca8d-ac9d191692cf"
      },
      "source": [
        "arr2 = np.array([random.randint(1, 20) for x in range(10)])\n",
        "\n",
        "print(arr2)\n",
        "\n",
        "arr2 = np.sort(arr2)[::-1]\n",
        "print(arr2)\n",
        "\n",
        "arr2 = np.sort(arr2)\n",
        "print(arr2)"
      ],
      "execution_count": 0,
      "outputs": [
        {
          "output_type": "stream",
          "text": [
            "[ 5 13 18  4 18  6 19 10 19  9]\n",
            "[19 19 18 18 13 10  9  6  5  4]\n",
            "[ 4  5  6  9 10 13 18 18 19 19]\n"
          ],
          "name": "stdout"
        }
      ]
    },
    {
      "cell_type": "markdown",
      "metadata": {
        "id": "dPiXyaVuFcV5",
        "colab_type": "text"
      },
      "source": [
        "#### Convert an 1D array [1 2 3 4 5 6 7 8 9] to 2D array [[1 2 3], [4 5 6], [7 8 9]]"
      ]
    },
    {
      "cell_type": "code",
      "metadata": {
        "id": "flEq5bgGFcV8",
        "colab_type": "code",
        "colab": {},
        "outputId": "459120d4-3486-4e09-bf02-bb9be60e0372"
      },
      "source": [
        "arr3 = [1, 2, 3, 4, 5, 6, 7, 8, 9]\n",
        "arr3 = np.reshape(arr3, (3, 3))\n",
        "print(arr3)"
      ],
      "execution_count": 0,
      "outputs": [
        {
          "output_type": "stream",
          "text": [
            "[[1 2 3]\n",
            " [4 5 6]\n",
            " [7 8 9]]\n"
          ],
          "name": "stdout"
        }
      ]
    },
    {
      "cell_type": "markdown",
      "metadata": {
        "id": "49DPfMqYFcWE",
        "colab_type": "text"
      },
      "source": [
        "#### Stack two arrays of any size horizontally and vertically"
      ]
    },
    {
      "cell_type": "code",
      "metadata": {
        "id": "UHXJjFG5FcWF",
        "colab_type": "code",
        "colab": {},
        "outputId": "677089c7-8594-4fc0-a676-1eefca3d9c73"
      },
      "source": [
        "arrTemp = arr3 + random.randint(1, 20)\n",
        "print(arrTemp, '\\n')\n",
        "arr4 = np.hstack((arrTemp, arr3))\n",
        "print(arr4, '\\n')\n",
        "arr5 = np.vstack((arrTemp, arr3))\n",
        "print(arr5)"
      ],
      "execution_count": 0,
      "outputs": [
        {
          "output_type": "stream",
          "text": [
            "[[ 7  8  9]\n",
            " [10 11 12]\n",
            " [13 14 15]] \n",
            "\n",
            "[[ 7  8  9  1  2  3]\n",
            " [10 11 12  4  5  6]\n",
            " [13 14 15  7  8  9]] \n",
            "\n",
            "[[ 7  8  9]\n",
            " [10 11 12]\n",
            " [13 14 15]\n",
            " [ 1  2  3]\n",
            " [ 4  5  6]\n",
            " [ 7  8  9]]\n"
          ],
          "name": "stdout"
        }
      ]
    },
    {
      "cell_type": "markdown",
      "metadata": {
        "id": "R1pvKXP6FcWK",
        "colab_type": "text"
      },
      "source": [
        "#### Create two array of same size and find commom elements"
      ]
    },
    {
      "cell_type": "code",
      "metadata": {
        "id": "Fdz_zMu4FcWL",
        "colab_type": "code",
        "colab": {},
        "outputId": "58977e81-5c4a-4ac2-c459-e065170580c8"
      },
      "source": [
        "size = random.randint(1, 15)\n",
        "arr6 = np.array([random.randint(1, 20) for x in range(size)])\n",
        "print(arr6)\n",
        "arr7 = np.array([random.randint(1, 20) for x in range(size)])\n",
        "print(arr7)\n",
        "print(np.intersect1d(arr6.flatten(), arr7.flatten()))"
      ],
      "execution_count": 0,
      "outputs": [
        {
          "output_type": "stream",
          "text": [
            "[18  2  9  9  9 14  8 15  9]\n",
            "[ 7 20 12  5  6 13  9  9 10]\n",
            "[9]\n"
          ],
          "name": "stdout"
        }
      ]
    },
    {
      "cell_type": "markdown",
      "metadata": {
        "id": "d1RIHNbzFcWP",
        "colab_type": "text"
      },
      "source": [
        "#### Create a 2D array of 5 by 5 and find the min and max values from each row and each column"
      ]
    },
    {
      "cell_type": "code",
      "metadata": {
        "id": "2NsjyqBPFcWR",
        "colab_type": "code",
        "colab": {},
        "outputId": "27a0f6f3-aef7-4e04-f7b5-8a753545074d"
      },
      "source": [
        "arr8 = np.array([[random.randint(1, 20) for y in range(5)] for x in range(5)])\n",
        "print(arr8)\n",
        "for index, x in enumerate(arr8):\n",
        "    print('\\nrow %d'%index)\n",
        "    print('Max val', np.amax(x))\n",
        "    print('Min val', np.amin(x))"
      ],
      "execution_count": 0,
      "outputs": [
        {
          "output_type": "stream",
          "text": [
            "[[ 9  4 19 20 12]\n",
            " [20 20 18  8 18]\n",
            " [10  9 11  5  9]\n",
            " [ 5 19 19 12 20]\n",
            " [14 13 13  6  1]]\n",
            "\n",
            "row 0\n",
            "Max val 20\n",
            "Min val 4\n",
            "\n",
            "row 1\n",
            "Max val 20\n",
            "Min val 8\n",
            "\n",
            "row 2\n",
            "Max val 11\n",
            "Min val 5\n",
            "\n",
            "row 3\n",
            "Max val 20\n",
            "Min val 5\n",
            "\n",
            "row 4\n",
            "Max val 14\n",
            "Min val 1\n"
          ],
          "name": "stdout"
        }
      ]
    },
    {
      "cell_type": "markdown",
      "metadata": {
        "id": "HMOtOEKKFcWV",
        "colab_type": "text"
      },
      "source": [
        "#### Create an array of size 100 and compute the mean, median, standard deviation."
      ]
    },
    {
      "cell_type": "code",
      "metadata": {
        "id": "x9QKqfmjFcWW",
        "colab_type": "code",
        "colab": {},
        "outputId": "e76cbb4d-885d-4418-d1ee-0e94612218ad"
      },
      "source": [
        "arr9 = np.random.random(100)\n",
        "print(arr9)\n",
        "print(\"Mean: %f\"%np.mean(arr9), \"Median: %f\"%np.median(arr9), \"Standard Deviation: %f\"%np.std(arr9), sep = '\\n')"
      ],
      "execution_count": 0,
      "outputs": [
        {
          "output_type": "stream",
          "text": [
            "[0.17396608 0.55829884 0.66208479 0.29715988 0.03250854 0.27399086\n",
            " 0.37172688 0.83553818 0.21362963 0.29390976 0.69726472 0.24397839\n",
            " 0.19698404 0.31719013 0.71984052 0.40481898 0.01268797 0.69448705\n",
            " 0.68732162 0.13152359 0.70893991 0.05436392 0.91250802 0.75098603\n",
            " 0.05402251 0.6365958  0.96156469 0.33037231 0.49234795 0.8205805\n",
            " 0.76006675 0.04141193 0.90605672 0.16733026 0.13567383 0.53285899\n",
            " 0.87425807 0.34324539 0.31218462 0.67655897 0.80369191 0.26741323\n",
            " 0.06912633 0.09974465 0.60994789 0.6621331  0.97737712 0.28536117\n",
            " 0.02849438 0.55004709 0.7990937  0.04999189 0.16605585 0.46760265\n",
            " 0.41412841 0.12435347 0.89119532 0.61961026 0.61262158 0.19140995\n",
            " 0.20648404 0.64739262 0.34961551 0.41423566 0.70064401 0.88897372\n",
            " 0.61871016 0.75725135 0.54349966 0.99540324 0.22180377 0.91431421\n",
            " 0.67551859 0.90833911 0.03778926 0.93450613 0.94705516 0.99724174\n",
            " 0.78284396 0.24242917 0.69535009 0.69145388 0.25992515 0.35403359\n",
            " 0.0710877  0.46095518 0.43285218 0.47111872 0.90201924 0.46110884\n",
            " 0.40331612 0.67274846 0.91829706 0.19111585 0.2538498  0.68807538\n",
            " 0.92399261 0.65597483 0.20577287 0.22436532]\n",
            "Mean: 0.497017\n",
            "Median: 0.481733\n",
            "Standard Deviation: 0.293694\n"
          ],
          "name": "stdout"
        }
      ]
    },
    {
      "cell_type": "markdown",
      "metadata": {
        "id": "ocZnNOwMFcWb",
        "colab_type": "text"
      },
      "source": [
        "#### Normalize a 5x5 random matrix"
      ]
    },
    {
      "cell_type": "code",
      "metadata": {
        "id": "G4lYj3SuFcWc",
        "colab_type": "code",
        "colab": {},
        "outputId": "a84ffc1a-9085-4fc1-a4f6-8fe2cd0cf5bc"
      },
      "source": [
        "arr10 = np.array([[random.randint(1, 20) for y in range(5)] for x in range(5)])\n",
        "print(arr10)\n",
        "min10 = arr10.min()\n",
        "max10 = arr10.max()\n",
        "arr10 = (arr10 - min10)/(max10 - min10)\n",
        "print('\\n', arr10)"
      ],
      "execution_count": 0,
      "outputs": [
        {
          "output_type": "stream",
          "text": [
            "[[13 17 15  4  2]\n",
            " [ 2  5 12  8 12]\n",
            " [ 8  6  8 13  5]\n",
            " [ 2 12  4  1  1]\n",
            " [ 9  5 19  7  9]]\n",
            "\n",
            " [[0.66666667 0.88888889 0.77777778 0.16666667 0.05555556]\n",
            " [0.05555556 0.22222222 0.61111111 0.38888889 0.61111111]\n",
            " [0.38888889 0.27777778 0.38888889 0.66666667 0.22222222]\n",
            " [0.05555556 0.61111111 0.16666667 0.         0.        ]\n",
            " [0.44444444 0.22222222 1.         0.33333333 0.44444444]]\n"
          ],
          "name": "stdout"
        }
      ]
    },
    {
      "cell_type": "markdown",
      "metadata": {
        "id": "hnzzFCLmFcWh",
        "colab_type": "text"
      },
      "source": [
        "#### Consider an array of dimension (4,4,3), how to mulitply it by an array with dimensions (4,4)?"
      ]
    },
    {
      "cell_type": "code",
      "metadata": {
        "id": "5GbXDf6NFcWi",
        "colab_type": "code",
        "colab": {},
        "outputId": "0256cbb7-2458-45e6-a948-061e79292363"
      },
      "source": [
        "arr11 = np.array([[[1, 2, 3]]* 4] * 4)\n",
        "print('arr11 before reshape\\n', arr11)\n",
        "arr11 = arr11.reshape(3, 4, 4)\n",
        "print('arr11 after reshape\\n', arr11)\n",
        "arr12 = np.array([[1, 2, 3, 4]]* 4)\n",
        "print('\\n arr12\\n', arr12)\n",
        "print('\\n Result\\n', np.dot(arr11, arr12))"
      ],
      "execution_count": 0,
      "outputs": [
        {
          "output_type": "stream",
          "text": [
            "arr11 before reshape\n",
            " [[[1 2 3]\n",
            "  [1 2 3]\n",
            "  [1 2 3]\n",
            "  [1 2 3]]\n",
            "\n",
            " [[1 2 3]\n",
            "  [1 2 3]\n",
            "  [1 2 3]\n",
            "  [1 2 3]]\n",
            "\n",
            " [[1 2 3]\n",
            "  [1 2 3]\n",
            "  [1 2 3]\n",
            "  [1 2 3]]\n",
            "\n",
            " [[1 2 3]\n",
            "  [1 2 3]\n",
            "  [1 2 3]\n",
            "  [1 2 3]]]\n",
            "arr11 after reshape\n",
            " [[[1 2 3 1]\n",
            "  [2 3 1 2]\n",
            "  [3 1 2 3]\n",
            "  [1 2 3 1]]\n",
            "\n",
            " [[2 3 1 2]\n",
            "  [3 1 2 3]\n",
            "  [1 2 3 1]\n",
            "  [2 3 1 2]]\n",
            "\n",
            " [[3 1 2 3]\n",
            "  [1 2 3 1]\n",
            "  [2 3 1 2]\n",
            "  [3 1 2 3]]]\n",
            "\n",
            " arr12\n",
            " [[1 2 3 4]\n",
            " [1 2 3 4]\n",
            " [1 2 3 4]\n",
            " [1 2 3 4]]\n",
            "\n",
            " Result\n",
            " [[[ 7 14 21 28]\n",
            "  [ 8 16 24 32]\n",
            "  [ 9 18 27 36]\n",
            "  [ 7 14 21 28]]\n",
            "\n",
            " [[ 8 16 24 32]\n",
            "  [ 9 18 27 36]\n",
            "  [ 7 14 21 28]\n",
            "  [ 8 16 24 32]]\n",
            "\n",
            " [[ 9 18 27 36]\n",
            "  [ 7 14 21 28]\n",
            "  [ 8 16 24 32]\n",
            "  [ 9 18 27 36]]]\n"
          ],
          "name": "stdout"
        }
      ]
    },
    {
      "cell_type": "code",
      "metadata": {
        "id": "wFf26aGnFcWm",
        "colab_type": "code",
        "colab": {}
      },
      "source": [
        ""
      ],
      "execution_count": 0,
      "outputs": []
    }
  ]
}