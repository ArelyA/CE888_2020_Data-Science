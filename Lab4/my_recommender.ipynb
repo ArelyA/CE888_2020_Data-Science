{
  "nbformat": 4,
  "nbformat_minor": 0,
  "metadata": {
    "colab": {
      "name": "my_recommender.ipynb",
      "provenance": [],
      "authorship_tag": "ABX9TyOmIp3oS8NSrZ8HHJZp8Uiz",
      "include_colab_link": true
    },
    "kernelspec": {
      "name": "python3",
      "display_name": "Python 3"
    }
  },
  "cells": [
    {
      "cell_type": "markdown",
      "metadata": {
        "id": "view-in-github",
        "colab_type": "text"
      },
      "source": [
        "<a href=\"https://colab.research.google.com/github/ArelyA/CE888_2020_Data-Science/blob/master/my_recommender.ipynb\" target=\"_parent\"><img src=\"https://colab.research.google.com/assets/colab-badge.svg\" alt=\"Open In Colab\"/></a>"
      ]
    },
    {
      "cell_type": "code",
      "metadata": {
        "id": "l3ExPJGGDmrf",
        "colab_type": "code",
        "colab": {}
      },
      "source": [
        "import pandas as pd\n",
        "from sklearn.model_selection import train_test_split\n",
        "import numpy as np\n",
        "from IPython.display import Image\n",
        "np.set_printoptions(precision = 3)"
      ],
      "execution_count": 0,
      "outputs": []
    },
    {
      "cell_type": "code",
      "metadata": {
        "id": "NOj2gpJzD1b8",
        "colab_type": "code",
        "colab": {}
      },
      "source": [
        "data = pd.read_csv(\"https://raw.githubusercontent.com/albanda/CE888/master/lab5-recommender/jester-data-1.csv\", header=None)\n",
        "data = data.drop(data.columns[0], axis=1)"
      ],
      "execution_count": 0,
      "outputs": []
    },
    {
      "cell_type": "code",
      "metadata": {
        "id": "2gGFopFJECcb",
        "colab_type": "code",
        "colab": {}
      },
      "source": [
        "def replace(orig, percentage=0.1):\n",
        "  \"\"\"\n",
        "  Replaces 'percentage'% of the original values in 'orig' with 99's\n",
        "  :param orig: original data array\n",
        "  :param percentage: percentage of values to replace (0<percentage<1)\n",
        "  \"\"\"\n",
        "  new_data = orig.copy()\n",
        "  rated = np.where(arr!=99)\n",
        "  n_rated = len(rated[0])\n",
        "  idx = np.random.choice(n_rated, size=int(percentage*n_rated), replace=False)\n",
        "  new_data[rated[0][idx], rated[1][idx]] = 99\n",
        "  return new_data, (rated[0][idx], rated[1][idx])"
      ],
      "execution_count": 0,
      "outputs": []
    },
    {
      "cell_type": "code",
      "metadata": {
        "id": "n-j0FpnQEanu",
        "colab_type": "code",
        "colab": {}
      },
      "source": [
        "arr = data.values\n",
        "rated = np.where(arr!=99)\n",
        "newdata, x_y = replace(data.values, 0.1)\n",
        "x, y = x_y"
      ],
      "execution_count": 0,
      "outputs": []
    },
    {
      "cell_type": "code",
      "metadata": {
        "id": "HQF4xPoxi0jo",
        "colab_type": "code",
        "colab": {}
      },
      "source": [
        "user_ratings = newdata\n",
        "latent_user_preferences = np.random.random((user_ratings.shape[0], 4))\n",
        "latent_item_features = np.random.random((user_ratings.shape[1], 4))"
      ],
      "execution_count": 0,
      "outputs": []
    },
    {
      "cell_type": "code",
      "metadata": {
        "id": "gYF6qt0tIME2",
        "colab_type": "code",
        "colab": {}
      },
      "source": [
        "def predict_rating(joke_id, rating_id):\n",
        "    \"\"\" Predict a rating given a joke_id and an rating_id.\n",
        "    \"\"\"\n",
        "    user_preference = latent_user_preferences[joke_id]\n",
        "    item_preference = latent_item_features[rating_id]\n",
        "    return user_preference.dot(item_preference)\n",
        "\n",
        "\n",
        "def train(joke_id, rating_id, rating, alpha=0.0001):\n",
        "    \n",
        "    #print rating_id\n",
        "    prediction_rating = predict_rating(joke_id, rating_id)\n",
        "    err =  prediction_rating - rating\n",
        "    #print err\n",
        "    user_pref_values = latent_user_preferences[joke_id][:]\n",
        "    latent_user_preferences[joke_id] -= alpha * err * latent_item_features[rating_id]\n",
        "    latent_item_features[rating_id] -= alpha * err * user_pref_values\n",
        "    return err\n",
        "    \n",
        "\n",
        "def sgd(al, iterations=50):\n",
        "    \"\"\" Iterate over all jokes and all ratings and train for \n",
        "        a certain number of iterations\n",
        "    \"\"\"\n",
        "    for iteration in range(iterations):\n",
        "        error = []\n",
        "        for joke_id in range(latent_user_preferences.shape[0]):\n",
        "            for rating_id in range(latent_item_features.shape[0]):\n",
        "                rating = user_ratings[joke_id][rating_id]\n",
        "                if rating != 99:\n",
        "                    err = train(joke_id, rating_id, rating)\n",
        "                    error.append(err)\n",
        "        mse = (np.array(error) ** 2).mean()  \n",
        "        if (iteration % 10) == 0:\n",
        "            print(mse)"
      ],
      "execution_count": 0,
      "outputs": []
    },
    {
      "cell_type": "code",
      "metadata": {
        "id": "bX1TLcFHIBCz",
        "colab_type": "code",
        "colab": {}
      },
      "source": [
        "def latent_factor(iter, a, lat):\n",
        "  # Initialise as random values\n",
        "  latent_user_preferences = np.random.random((user_ratings.shape[0], lat))\n",
        "  latent_item_features = np.random.random((user_ratings.shape[1], lat))\n",
        "  print(\"MSE %f iter, alpha=%f, latent = %f:\" % (iter, a, lat)) \n",
        "  sgd(a, iter)"
      ],
      "execution_count": 0,
      "outputs": []
    },
    {
      "cell_type": "code",
      "metadata": {
        "id": "KwOTxJJ2hvsN",
        "colab_type": "code",
        "outputId": "51fb453c-a4b6-4c6a-8a17-28c43b5e59cf",
        "colab": {
          "base_uri": "https://localhost:8080/",
          "height": 122
        }
      },
      "source": [
        "latent_factor(50, 0.0001, 4)"
      ],
      "execution_count": 8,
      "outputs": [
        {
          "output_type": "stream",
          "text": [
            "MSE 50.000000 iter, alpha=0.000100, latent = 4.000000:\n",
            "25.77174859069468\n",
            "23.945551204368634\n",
            "21.46278618622512\n",
            "17.89908151473968\n",
            "17.39105345884068\n"
          ],
          "name": "stdout"
        }
      ]
    },
    {
      "cell_type": "code",
      "metadata": {
        "id": "mHq3gaGRjKYz",
        "colab_type": "code",
        "outputId": "1eba2ae1-4036-478f-c128-d9a6bd976a31",
        "colab": {
          "base_uri": "https://localhost:8080/",
          "height": 122
        }
      },
      "source": [
        "latent_factor(50, 0.00001, 4)"
      ],
      "execution_count": 9,
      "outputs": [
        {
          "output_type": "stream",
          "text": [
            "MSE 50.000000 iter, alpha=0.000010, latent = 4.000000:\n",
            "17.222706212834385\n",
            "17.088317247243534\n",
            "16.905847030696993\n",
            "16.632296857808697\n",
            "16.29566996599351\n"
          ],
          "name": "stdout"
        }
      ]
    },
    {
      "cell_type": "code",
      "metadata": {
        "id": "xTfTxxHBjUqq",
        "colab_type": "code",
        "colab": {
          "base_uri": "https://localhost:8080/",
          "height": 122
        },
        "outputId": "1dc20911-a927-4285-9b20-d06ef9098d3c"
      },
      "source": [
        "latent_factor(50, 0.0000001, 2)"
      ],
      "execution_count": 10,
      "outputs": [
        {
          "output_type": "stream",
          "text": [
            "MSE 50.000000 iter, alpha=0.000000, latent = 2.000000:\n",
            "15.952778978251951\n",
            "15.666372960796574\n",
            "15.474361639894585\n",
            "15.360860928024684\n",
            "15.295828921821208\n"
          ],
          "name": "stdout"
        }
      ]
    },
    {
      "cell_type": "code",
      "metadata": {
        "id": "HPqf6OGMjecL",
        "colab_type": "code",
        "colab": {
          "base_uri": "https://localhost:8080/",
          "height": 158
        },
        "outputId": "27a91028-fd6a-4b1d-9418-7d4ec5842e77"
      },
      "source": [
        "latent_factor(70, 0.0001, 2)"
      ],
      "execution_count": 11,
      "outputs": [
        {
          "output_type": "stream",
          "text": [
            "MSE 70.000000 iter, alpha=0.000100, latent = 2.000000:\n",
            "15.258057483202041\n",
            "15.235511807150234\n",
            "15.221671896082563\n",
            "15.212969654537085\n",
            "15.20739806645196\n",
            "15.203792824113032\n",
            "15.201458115977559\n"
          ],
          "name": "stdout"
        }
      ]
    },
    {
      "cell_type": "code",
      "metadata": {
        "id": "oNVfex4TjhtR",
        "colab_type": "code",
        "colab": {
          "base_uri": "https://localhost:8080/",
          "height": 122
        },
        "outputId": "820090cd-ad56-4668-fda1-718cfc5b9225"
      },
      "source": [
        "latent_factor(50, 0.0001, 6)"
      ],
      "execution_count": 12,
      "outputs": [
        {
          "output_type": "stream",
          "text": [
            "MSE 50.000000 iter, alpha=0.000100, latent = 6.000000:\n",
            "15.19996661416273\n",
            "15.1990493656257\n",
            "15.198533376003615\n",
            "15.198305229024363\n",
            "15.198289321161834\n"
          ],
          "name": "stdout"
        }
      ]
    }
  ]
}